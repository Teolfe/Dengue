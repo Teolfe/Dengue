{
 "cells": [
  {
   "cell_type": "code",
   "execution_count": 2,
   "metadata": {},
   "outputs": [],
   "source": [
    "import pandas as pd\n",
    "import numpy as np\n",
    "import matplotlib\n",
    "import matplotlib.pyplot as plt\n",
    "import seaborn as sns\n"
   ]
  },
  {
   "cell_type": "code",
   "execution_count": 3,
   "metadata": {},
   "outputs": [],
   "source": [
    "df = pd.read_csv('sinan_gdf_faixaetaria_2016.csv',encoding='latin',sep=';')"
   ]
  },
  {
   "cell_type": "code",
   "execution_count": 4,
   "metadata": {},
   "outputs": [
    {
     "data": {
      "text/html": [
       "<div>\n",
       "<style scoped>\n",
       "    .dataframe tbody tr th:only-of-type {\n",
       "        vertical-align: middle;\n",
       "    }\n",
       "\n",
       "    .dataframe tbody tr th {\n",
       "        vertical-align: top;\n",
       "    }\n",
       "\n",
       "    .dataframe thead th {\n",
       "        text-align: right;\n",
       "    }\n",
       "</style>\n",
       "<table border=\"1\" class=\"dataframe\">\n",
       "  <thead>\n",
       "    <tr style=\"text-align: right;\">\n",
       "      <th></th>\n",
       "      <th>Semana epidem. notificação</th>\n",
       "      <th>Em branco/IGN</th>\n",
       "      <th>&lt;1 Ano</th>\n",
       "      <th>1-4</th>\n",
       "      <th>5-9</th>\n",
       "      <th>10-14</th>\n",
       "      <th>15-19</th>\n",
       "      <th>20-39</th>\n",
       "      <th>40-59</th>\n",
       "      <th>60-64</th>\n",
       "      <th>65-69</th>\n",
       "      <th>70-79</th>\n",
       "      <th>80 e +</th>\n",
       "      <th>Total</th>\n",
       "    </tr>\n",
       "  </thead>\n",
       "  <tbody>\n",
       "    <tr>\n",
       "      <th>0</th>\n",
       "      <td>Semana 01</td>\n",
       "      <td>-</td>\n",
       "      <td>3</td>\n",
       "      <td>11</td>\n",
       "      <td>17</td>\n",
       "      <td>27</td>\n",
       "      <td>38</td>\n",
       "      <td>134</td>\n",
       "      <td>85</td>\n",
       "      <td>10</td>\n",
       "      <td>9</td>\n",
       "      <td>4</td>\n",
       "      <td>-</td>\n",
       "      <td>338</td>\n",
       "    </tr>\n",
       "    <tr>\n",
       "      <th>1</th>\n",
       "      <td>Semana 02</td>\n",
       "      <td>-</td>\n",
       "      <td>3</td>\n",
       "      <td>7</td>\n",
       "      <td>17</td>\n",
       "      <td>27</td>\n",
       "      <td>27</td>\n",
       "      <td>168</td>\n",
       "      <td>119</td>\n",
       "      <td>14</td>\n",
       "      <td>14</td>\n",
       "      <td>11</td>\n",
       "      <td>2</td>\n",
       "      <td>409</td>\n",
       "    </tr>\n",
       "    <tr>\n",
       "      <th>2</th>\n",
       "      <td>Semana 03</td>\n",
       "      <td>-</td>\n",
       "      <td>4</td>\n",
       "      <td>7</td>\n",
       "      <td>17</td>\n",
       "      <td>39</td>\n",
       "      <td>34</td>\n",
       "      <td>157</td>\n",
       "      <td>110</td>\n",
       "      <td>17</td>\n",
       "      <td>15</td>\n",
       "      <td>13</td>\n",
       "      <td>5</td>\n",
       "      <td>418</td>\n",
       "    </tr>\n",
       "    <tr>\n",
       "      <th>3</th>\n",
       "      <td>Semana 04</td>\n",
       "      <td>-</td>\n",
       "      <td>6</td>\n",
       "      <td>9</td>\n",
       "      <td>25</td>\n",
       "      <td>42</td>\n",
       "      <td>49</td>\n",
       "      <td>202</td>\n",
       "      <td>144</td>\n",
       "      <td>18</td>\n",
       "      <td>12</td>\n",
       "      <td>18</td>\n",
       "      <td>2</td>\n",
       "      <td>527</td>\n",
       "    </tr>\n",
       "    <tr>\n",
       "      <th>4</th>\n",
       "      <td>Semana 05</td>\n",
       "      <td>-</td>\n",
       "      <td>14</td>\n",
       "      <td>30</td>\n",
       "      <td>48</td>\n",
       "      <td>76</td>\n",
       "      <td>61</td>\n",
       "      <td>301</td>\n",
       "      <td>177</td>\n",
       "      <td>27</td>\n",
       "      <td>10</td>\n",
       "      <td>28</td>\n",
       "      <td>7</td>\n",
       "      <td>779</td>\n",
       "    </tr>\n",
       "  </tbody>\n",
       "</table>\n",
       "</div>"
      ],
      "text/plain": [
       "  Semana epidem. notificação Em branco/IGN <1 Ano 1-4 5-9 10-14 15-19  20-39  \\\n",
       "0                  Semana 01             -      3  11  17    27    38    134   \n",
       "1                  Semana 02             -      3   7  17    27    27    168   \n",
       "2                  Semana 03             -      4   7  17    39    34    157   \n",
       "3                  Semana 04             -      6   9  25    42    49    202   \n",
       "4                  Semana 05             -     14  30  48    76    61    301   \n",
       "\n",
       "   40-59 60-64 65-69 70-79 80 e +  Total  \n",
       "0     85    10     9     4      -    338  \n",
       "1    119    14    14    11      2    409  \n",
       "2    110    17    15    13      5    418  \n",
       "3    144    18    12    18      2    527  \n",
       "4    177    27    10    28      7    779  "
      ]
     },
     "execution_count": 4,
     "metadata": {},
     "output_type": "execute_result"
    }
   ],
   "source": [
    "df.head(5)"
   ]
  },
  {
   "cell_type": "code",
   "execution_count": 5,
   "metadata": {},
   "outputs": [
    {
     "data": {
      "text/plain": [
       "Index(['Semana epidem. notificação', 'Em branco/IGN', '<1 Ano', '1-4', '5-9',\n",
       "       '10-14', '15-19', '20-39', '40-59', '60-64', '65-69', '70-79', '80 e +',\n",
       "       'Total'],\n",
       "      dtype='object')"
      ]
     },
     "execution_count": 5,
     "metadata": {},
     "output_type": "execute_result"
    }
   ],
   "source": [
    "df.columns"
   ]
  },
  {
   "cell_type": "code",
   "execution_count": 6,
   "metadata": {},
   "outputs": [],
   "source": [
    "df.drop(['Semana epidem. notificação'],axis=1,inplace=True)"
   ]
  },
  {
   "cell_type": "code",
   "execution_count": 7,
   "metadata": {},
   "outputs": [
    {
     "data": {
      "text/html": [
       "<div>\n",
       "<style scoped>\n",
       "    .dataframe tbody tr th:only-of-type {\n",
       "        vertical-align: middle;\n",
       "    }\n",
       "\n",
       "    .dataframe tbody tr th {\n",
       "        vertical-align: top;\n",
       "    }\n",
       "\n",
       "    .dataframe thead th {\n",
       "        text-align: right;\n",
       "    }\n",
       "</style>\n",
       "<table border=\"1\" class=\"dataframe\">\n",
       "  <thead>\n",
       "    <tr style=\"text-align: right;\">\n",
       "      <th></th>\n",
       "      <th>Em branco/IGN</th>\n",
       "      <th>&lt;1 Ano</th>\n",
       "      <th>1-4</th>\n",
       "      <th>5-9</th>\n",
       "      <th>10-14</th>\n",
       "      <th>15-19</th>\n",
       "      <th>20-39</th>\n",
       "      <th>40-59</th>\n",
       "      <th>60-64</th>\n",
       "      <th>65-69</th>\n",
       "      <th>70-79</th>\n",
       "      <th>80 e +</th>\n",
       "      <th>Total</th>\n",
       "    </tr>\n",
       "  </thead>\n",
       "  <tbody>\n",
       "    <tr>\n",
       "      <th>0</th>\n",
       "      <td>-</td>\n",
       "      <td>3</td>\n",
       "      <td>11</td>\n",
       "      <td>17</td>\n",
       "      <td>27</td>\n",
       "      <td>38</td>\n",
       "      <td>134</td>\n",
       "      <td>85</td>\n",
       "      <td>10</td>\n",
       "      <td>9</td>\n",
       "      <td>4</td>\n",
       "      <td>-</td>\n",
       "      <td>338</td>\n",
       "    </tr>\n",
       "    <tr>\n",
       "      <th>1</th>\n",
       "      <td>-</td>\n",
       "      <td>3</td>\n",
       "      <td>7</td>\n",
       "      <td>17</td>\n",
       "      <td>27</td>\n",
       "      <td>27</td>\n",
       "      <td>168</td>\n",
       "      <td>119</td>\n",
       "      <td>14</td>\n",
       "      <td>14</td>\n",
       "      <td>11</td>\n",
       "      <td>2</td>\n",
       "      <td>409</td>\n",
       "    </tr>\n",
       "    <tr>\n",
       "      <th>2</th>\n",
       "      <td>-</td>\n",
       "      <td>4</td>\n",
       "      <td>7</td>\n",
       "      <td>17</td>\n",
       "      <td>39</td>\n",
       "      <td>34</td>\n",
       "      <td>157</td>\n",
       "      <td>110</td>\n",
       "      <td>17</td>\n",
       "      <td>15</td>\n",
       "      <td>13</td>\n",
       "      <td>5</td>\n",
       "      <td>418</td>\n",
       "    </tr>\n",
       "    <tr>\n",
       "      <th>3</th>\n",
       "      <td>-</td>\n",
       "      <td>6</td>\n",
       "      <td>9</td>\n",
       "      <td>25</td>\n",
       "      <td>42</td>\n",
       "      <td>49</td>\n",
       "      <td>202</td>\n",
       "      <td>144</td>\n",
       "      <td>18</td>\n",
       "      <td>12</td>\n",
       "      <td>18</td>\n",
       "      <td>2</td>\n",
       "      <td>527</td>\n",
       "    </tr>\n",
       "    <tr>\n",
       "      <th>4</th>\n",
       "      <td>-</td>\n",
       "      <td>14</td>\n",
       "      <td>30</td>\n",
       "      <td>48</td>\n",
       "      <td>76</td>\n",
       "      <td>61</td>\n",
       "      <td>301</td>\n",
       "      <td>177</td>\n",
       "      <td>27</td>\n",
       "      <td>10</td>\n",
       "      <td>28</td>\n",
       "      <td>7</td>\n",
       "      <td>779</td>\n",
       "    </tr>\n",
       "  </tbody>\n",
       "</table>\n",
       "</div>"
      ],
      "text/plain": [
       "  Em branco/IGN <1 Ano 1-4 5-9 10-14 15-19  20-39  40-59 60-64 65-69 70-79  \\\n",
       "0             -      3  11  17    27    38    134     85    10     9     4   \n",
       "1             -      3   7  17    27    27    168    119    14    14    11   \n",
       "2             -      4   7  17    39    34    157    110    17    15    13   \n",
       "3             -      6   9  25    42    49    202    144    18    12    18   \n",
       "4             -     14  30  48    76    61    301    177    27    10    28   \n",
       "\n",
       "  80 e +  Total  \n",
       "0      -    338  \n",
       "1      2    409  \n",
       "2      5    418  \n",
       "3      2    527  \n",
       "4      7    779  "
      ]
     },
     "execution_count": 7,
     "metadata": {},
     "output_type": "execute_result"
    }
   ],
   "source": [
    "df.head()"
   ]
  },
  {
   "cell_type": "code",
   "execution_count": 93,
   "metadata": {},
   "outputs": [],
   "source": [
    "weeks=pd.date_range(start='1/7/2016', end='31/12/2016', freq='7D')"
   ]
  },
  {
   "cell_type": "code",
   "execution_count": 94,
   "metadata": {},
   "outputs": [
    {
     "data": {
      "text/plain": [
       "52"
      ]
     },
     "execution_count": 94,
     "metadata": {},
     "output_type": "execute_result"
    }
   ],
   "source": [
    "weeks.size"
   ]
  },
  {
   "cell_type": "code",
   "execution_count": 95,
   "metadata": {},
   "outputs": [
    {
     "data": {
      "text/plain": [
       "DatetimeIndex(['2016-01-07', '2016-01-14', '2016-01-21', '2016-01-28',\n",
       "               '2016-02-04', '2016-02-11', '2016-02-18', '2016-02-25',\n",
       "               '2016-03-03', '2016-03-10', '2016-03-17', '2016-03-24',\n",
       "               '2016-03-31', '2016-04-07', '2016-04-14', '2016-04-21',\n",
       "               '2016-04-28', '2016-05-05', '2016-05-12', '2016-05-19',\n",
       "               '2016-05-26', '2016-06-02', '2016-06-09', '2016-06-16',\n",
       "               '2016-06-23', '2016-06-30', '2016-07-07', '2016-07-14',\n",
       "               '2016-07-21', '2016-07-28', '2016-08-04', '2016-08-11',\n",
       "               '2016-08-18', '2016-08-25', '2016-09-01', '2016-09-08',\n",
       "               '2016-09-15', '2016-09-22', '2016-09-29', '2016-10-06',\n",
       "               '2016-10-13', '2016-10-20', '2016-10-27', '2016-11-03',\n",
       "               '2016-11-10', '2016-11-17', '2016-11-24', '2016-12-01',\n",
       "               '2016-12-08', '2016-12-15', '2016-12-22', '2016-12-29'],\n",
       "              dtype='datetime64[ns]', freq='7D')"
      ]
     },
     "execution_count": 95,
     "metadata": {},
     "output_type": "execute_result"
    }
   ],
   "source": [
    "weeks"
   ]
  },
  {
   "cell_type": "code",
   "execution_count": 96,
   "metadata": {},
   "outputs": [],
   "source": [
    "df['weeks']=weeks"
   ]
  },
  {
   "cell_type": "code",
   "execution_count": 99,
   "metadata": {},
   "outputs": [],
   "source": [
    "df.set_index(weeks,inplace=True)"
   ]
  },
  {
   "cell_type": "code",
   "execution_count": 100,
   "metadata": {},
   "outputs": [
    {
     "data": {
      "image/png": "[encoded data removed]",
      "text/plain": [
       "<Figure size 2000x1000 with 1 Axes>"
      ]
     },
     "metadata": {
      "needs_background": "light"
     },
     "output_type": "display_data"
    }
   ],
   "source": [
    "fig, (ax1) = plt.subplots(1,figsize=(20,10),dpi=100)\n",
    "ax1.plot(df.Total,marker='o', linestyle='--',    linewidth=6,markersize=15, color='tab:pink')\n",
    "maxi=round(df.Total.max()+100);\n",
    "ax1.set_ylabel('Casos de Dengue no GDF em 2016',fontsize=25);\n",
    "ax1.set_xlabel('Data',fontsize=25);"
   ]
  },
  {
   "cell_type": "code",
   "execution_count": null,
   "metadata": {},
   "outputs": [],
   "source": []
  },
  {
   "cell_type": "code",
   "execution_count": null,
   "metadata": {},
   "outputs": [],
   "source": []
  }
 ],
 "metadata": {
  "kernelspec": {
   "display_name": "Python 3",
   "language": "python",
   "name": "python3"
  },
  "language_info": {
   "codemirror_mode": {
    "name": "ipython",
    "version": 3
   },
   "file_extension": ".py",
   "mimetype": "text/x-python",
   "name": "python",
   "nbconvert_exporter": "python",
   "pygments_lexer": "ipython3",
   "version": "3.8.3"
  }
 },
 "nbformat": 4,
 "nbformat_minor": 4
}
